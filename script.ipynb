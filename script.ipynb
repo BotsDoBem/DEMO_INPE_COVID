{
 "cells": [
  {
   "cell_type": "code",
   "execution_count": 1,
   "metadata": {},
   "outputs": [],
   "source": [
    "from nlg.train import parse\n",
    "import nlg.ordering as ordering\n",
    "import nlg.structuring as structuring\n",
    "import nlg.lexicalization as lexicalization\n",
    "import nlg.reference as reference"
   ]
  },
  {
   "cell_type": "markdown",
   "metadata": {},
   "source": [
    "# Training\n",
    "\n",
    "Process to extract the grammars for the pipeline steps"
   ]
  },
  {
   "cell_type": "code",
   "execution_count": 2,
   "metadata": {},
   "outputs": [],
   "source": [
    "trainset = parse('covid19/data/corpus.xml')\n",
    "trainstruct = structuring.train(trainset)\n",
    "trainlex = lexicalization.train(trainset)\n",
    "trainref = reference.train(trainset)"
   ]
  },
  {
   "cell_type": "markdown",
   "metadata": {},
   "source": [
    "# Generation"
   ]
  },
  {
   "cell_type": "code",
   "execution_count": 3,
   "metadata": {},
   "outputs": [],
   "source": [
    "from nlg.generation import Generation\n",
    "from nlg.realization import Realization"
   ]
  },
  {
   "cell_type": "code",
   "execution_count": 4,
   "metadata": {},
   "outputs": [],
   "source": [
    "structuring_path = 'covid19/data/grammar/structuring.json'\n",
    "lexicalization_path = 'covid19/data/grammar/lexicalization.json'\n",
    "reference_path = 'covid19/data/grammar/references.json'\n",
    "lexicon_path = 'nlg/lexicons'\n",
    "gen = Generation(structuring_path, lexicalization_path, reference_path, lexicon_path)"
   ]
  },
  {
   "cell_type": "code",
   "execution_count": 5,
   "metadata": {},
   "outputs": [
    {
     "name": "stdout",
     "output_type": "stream",
     "text": [
      "O país registra 2 casos de #COVID19 , 4 casos a mais do que no dia anterior.\n",
      "\n",
      "----------\n",
      "O país registra 9 casos de #COVID19 , 13 casos a mais do que no dia anterior.\n",
      "\n",
      "----------\n",
      "O país registra 7 novos casos de #COVID19, o que representa uma alta diária de 54%. O país já totaliza 20 casos da doença.\n",
      "\n",
      "----------\n",
      "O país totaliza 52 casos de #COVID19 , 14 casos a mais do que no dia anterior.\n",
      "\n",
      "----------\n",
      "O país reportou 121 novos casos de #COVID19, o maior aumento diário registrado até o momento. O país chega a 321 casos e já contabiliza 1 mortes pela doença.\n",
      "\n",
      "----------\n",
      "O país já totaliza 372 casos da doença. Com 2 novas mortes, o país registra um total de 3 óbitos pela doença.\n",
      "\n",
      "----------\n",
      "Em 24 horas foram registrados 249 novos casos e 3 novas mortes por #COVID19 no país. O país chega a 621 casos e já contabiliza 6 mortes pela doença.\n",
      "\n",
      "----------\n",
      "Com 172 novos casos e alta de 28% em relação ao dia anterior, o país totaliza 793 casos de #COVID19. Já o número total de mortes chega a 11, com 5 novos óbitos nas últimas 24 horas.\n",
      "\n",
      "----------\n",
      "As mortes por #COVID19 no país chegam a 15, com 4 novos óbitos, representando uma alta diária de 36%. Enquanto isso, os casos de infecção pelo vírus já alcançam 1.021, um aumento diário de 29%, representado por 228 novos casos.\n",
      "\n",
      "----------\n",
      "O país reportou 525 novos casos de #COVID19, o maior aumento diário registrado até o momento. O país tem recorde diário e registra 10 novos óbitos por #COVID19. O país já totaliza 1.546 casos da doença. No total, já são 25 mortes causadas pelo vírus.\n",
      "\n",
      "----------\n",
      "Com 9 novas mortes, o país soma 34 óbitos pelo vírus. O país observa alta de 36% na quantidade de mortos por #COVID19. O país registra 378 novos casos de #COVID19, somando 1.924 casos no total e aumento de 24% em relação ao dia anterior.\n",
      "\n",
      "----------\n",
      "O país observa alta de 17% num dia na quantidade de casos de #COVID19. O país já totaliza 2.247 casos da doença. Já o número total de mortes chega a 46, com 12 novos óbitos nas últimas 24 horas.\n",
      "\n",
      "----------\n",
      "Enquanto isso, os casos de infecção pelo vírus já alcançam 2.554, uma alta diária de 14%, representada por 307 novos casos. Com 13 novas mortes, o país registra um total de 59 óbitos pela doença.\n",
      "\n",
      "----------\n",
      "Com 15 novas mortes, o país soma 92 óbitos pelo vírus. O país observa alta de 19% na quantidade de mortos por #COVID19. O país já totaliza 3.417 casos da doença. O país observa aumento de 14% num dia na quantidade de casos de #COVID19.\n",
      "\n",
      "----------\n",
      "O país observa alta de 17% na quantidade de mortos por #COVID19. Com 23 novas mortes, o país soma 159 óbitos pelo vírus. O país já totaliza 4.579 casos da doença.\n",
      "\n",
      "----------\n",
      "O país reportou 1.138 novos casos de #COVID19, o maior aumento diário registrado até o momento. O país tem recorde diário e registra 42 novos óbitos por #COVID19. O país chega a 5.717 casos e já contabiliza 201 mortes pela doença.\n",
      "\n",
      "----------\n",
      "O país chega a 7.031 casos e já contabiliza 252 mortes pela doença.\n",
      "\n",
      "----------\n",
      "O país registra 807 novos casos de #COVID19, somando 11.130 casos no total e alta de 8% em relação ao dia anterior. No total, já são 486 mortes causadas pelo vírus.\n",
      "\n",
      "----------\n"
     ]
    }
   ],
   "source": [
    "for unit in trainset:\n",
    "    messages = unit['messages']\n",
    "    struct, templates, paragraphs = gen.generate(messages, strategy='major')\n",
    "    for paragraph in paragraphs:\n",
    "        print(' '.join(paragraph))\n",
    "        print()\n",
    "    print(10 * '-')"
   ]
  }
 ],
 "metadata": {
  "kernelspec": {
   "display_name": "Python 3",
   "language": "python",
   "name": "python3"
  },
  "language_info": {
   "codemirror_mode": {
    "name": "ipython",
    "version": 3
   },
   "file_extension": ".py",
   "mimetype": "text/x-python",
   "name": "python",
   "nbconvert_exporter": "python",
   "pygments_lexer": "ipython3",
   "version": "3.7.7"
  }
 },
 "nbformat": 4,
 "nbformat_minor": 4
}