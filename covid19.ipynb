{
 "cells": [
  {
   "cell_type": "code",
   "execution_count": 1,
   "metadata": {},
   "outputs": [],
   "source": [
    "from nlg.train import parse\n",
    "import nlg.ordering as ordering\n",
    "import nlg.structuring as structuring\n",
    "import nlg.lexicalization as lexicalization\n",
    "import nlg.reference as reference"
   ]
  },
  {
   "cell_type": "markdown",
   "metadata": {},
   "source": [
    "# Generation"
   ]
  },
  {
   "cell_type": "code",
   "execution_count": 2,
   "metadata": {},
   "outputs": [],
   "source": [
    "from db.model import CoronaVirus\n",
    "from covid19.content import content\n",
    "\n",
    "from nlg.generation import Generation\n",
    "from nlg.realization import Realization"
   ]
  },
  {
   "cell_type": "code",
   "execution_count": 3,
   "metadata": {},
   "outputs": [],
   "source": [
    "structuring_path = 'covid19/data/grammar/structuring.json'\n",
    "lexicalization_path = 'covid19/data/grammar/lexicalization.json'\n",
    "reference_path = 'covid19/data/grammar/references.json'\n",
    "lexicon_path = 'nlg/lexicons/pt-br'\n",
    "gen = Generation(structuring_path, lexicalization_path, reference_path, lexicon_path)"
   ]
  },
  {
   "cell_type": "code",
   "execution_count": 4,
   "metadata": {},
   "outputs": [
    {
     "name": "stdout",
     "output_type": "stream",
     "text": [
      "O Brasil observa alta de 7% na quantidade de mortos por #COVID19. Com 808 novos óbitos, país chega a marca de 12.461 mortos. Os casos de #COVID19 somam 178.214 no país.\n",
      "\n",
      "----------\n"
     ]
    }
   ],
   "source": [
    "messages = [\n",
    "    {\n",
    "        'intent': 'DEATHS_VARIATION_LAST_DAY', \n",
    "        'attributes': {'variation': 0.07, 'trend': 'high'}, 'str_msg': 'DEATHS_VARIATION_LAST_DAY(trend=\"high\",variation=\"0.07\")', \n",
    "        'delex_msg': 'DEATHS_VARIATION_LAST_DAY(trend=TREND,variation=VARIATION)'\n",
    "    }, \n",
    "    {\n",
    "        'intent': 'NEW_DEATHS', \n",
    "        'attributes': {'deaths': 808, 'highest': False}, \n",
    "        'str_msg': 'NEW_DEATHS(deaths=\"808\",highest=\"False\")', \n",
    "        'delex_msg': 'NEW_DEATHS(deaths=DEATHS,highest=HIGHEST)'\n",
    "    }, \n",
    "    {\n",
    "        'intent': 'TOTAL_CASES', \n",
    "        'attributes': {'cases': 178214}, \n",
    "        'str_msg': 'TOTAL_CASES(cases=\"178214\")', \n",
    "        'delex_msg': 'TOTAL_CASES(cases=CASES)'\n",
    "    }, \n",
    "    {\n",
    "        'intent': 'TOTAL_DEATHS', \n",
    "        'attributes': {'deaths': 12461}, \n",
    "        'str_msg': 'TOTAL_DEATHS(deaths=\"12461\")', \n",
    "        'delex_msg': 'TOTAL_DEATHS(deaths=DEATHS)'\n",
    "    }\n",
    "]\n",
    "\n",
    "struct, templates, paragraphs = gen.generate(messages, strategy='random')\n",
    "for paragraph in paragraphs:\n",
    "    print(' '.join(paragraph))\n",
    "    print()\n",
    "print(10 * '-')"
   ]
  },
  {
   "cell_type": "code",
   "execution_count": 4,
   "metadata": {},
   "outputs": [
    {
     "name": "stdout",
     "output_type": "stream",
     "text": [
      "São registrados, no total, 7.938 mortes e 115.455 casos de #COVID19 no Brasil.\n",
      "\n",
      "----------\n",
      "O Brasil chega a 126.611 casos e contabiliza 8.588 mortes pela doença.\n",
      "\n",
      "----------\n",
      "O Brasil chega a 135.773 casos e contabiliza 9.190 mortes pela doença.\n",
      "\n",
      "----------\n",
      "Número de casos confirmados de infecção pelo vírus alcançam 146.894. O Brasil reporta 827 novas mortes por #COVID19, somando 10.017 óbitos.\n",
      "\n",
      "----------\n",
      "São registrados, no total, 10.656 mortes e 156.061 casos de #COVID19 no Brasil.\n",
      "\n",
      "----------\n",
      "São registrados, no total, 11.123 mortes e 162.699 casos de #COVID19 no Brasil.\n",
      "\n",
      "----------\n",
      "São registrados, no total, 11.653 mortes e 169.594 casos de #COVID19 no Brasil.\n",
      "\n",
      "----------\n",
      "O Brasil observa alta de 7% na quantidade de mortos por #COVID19. Com 808 novos óbitos, o país chega a marca de 12.461 mortos. Número de casos confirmados de infecção pelo vírus alcançam 178.214.\n",
      "\n",
      "----------\n",
      "O Brasil observa aumento de 6% no número de mortes causadas por #COVID19, com 779 novos registros nas últimas 24 horas, totalizando 13.240 óbitos. Com 11.923 novos casos, o país chega ao total de 190.137 registros da doença.\n",
      "\n",
      "----------\n",
      "O Brasil registra novo recorde, 13.028 novos casos de #COVID19 em apenas um dia. No total, o país contabiliza 203.165 casos e 13.999 mortes pela doença.\n",
      "\n",
      "----------\n"
     ]
    }
   ],
   "source": [
    "for date in CoronaVirus.objects.distinct('date')[:10]:\n",
    "    messages = content(date)\n",
    "    struct, templates, paragraphs = gen.generate(messages, strategy='random')\n",
    "    for paragraph in paragraphs:\n",
    "        print(' '.join(paragraph))\n",
    "        print()\n",
    "    print(10 * '-')"
   ]
  },
  {
   "cell_type": "code",
   "execution_count": null,
   "metadata": {},
   "outputs": [],
   "source": []
  }
 ],
 "metadata": {
  "kernelspec": {
   "display_name": "Python 3",
   "language": "python",
   "name": "python3"
  },
  "language_info": {
   "codemirror_mode": {
    "name": "ipython",
    "version": 3
   },
   "file_extension": ".py",
   "mimetype": "text/x-python",
   "name": "python",
   "nbconvert_exporter": "python",
   "pygments_lexer": "ipython3",
   "version": "3.7.7"
  }
 },
 "nbformat": 4,
 "nbformat_minor": 4
}
