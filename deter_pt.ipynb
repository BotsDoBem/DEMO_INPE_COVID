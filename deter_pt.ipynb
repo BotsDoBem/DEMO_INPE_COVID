{
 "cells": [
  {
   "cell_type": "code",
   "execution_count": 1,
   "metadata": {},
   "outputs": [],
   "source": [
    "from nlg.train import parse\n",
    "import nlg.ordering as ordering\n",
    "import nlg.structuring as structuring\n",
    "import nlg.lexicalization as lexicalization\n",
    "import nlg.reference as reference"
   ]
  },
  {
   "cell_type": "markdown",
   "metadata": {},
   "source": [
    "# Month Report"
   ]
  },
  {
   "cell_type": "code",
   "execution_count": 2,
   "metadata": {},
   "outputs": [],
   "source": [
    "from nlg.generation import Generation\n",
    "from nlg.realization import Realization\n",
    "from inpe_deter.content import content\n",
    "from datetime import datetime\n",
    "\n",
    "from db.model import DeforestationDeterINPE, CoronaVirus\n",
    "from datetime import datetime"
   ]
  },
  {
   "cell_type": "code",
   "execution_count": 3,
   "metadata": {},
   "outputs": [],
   "source": [
    "structuring_path = 'inpe_deter/data/pt-br/month_grammar/structuring.json'\n",
    "lexicalization_path = 'inpe_deter/data/pt-br/month_grammar/lexicalization.json'\n",
    "reference_path = 'inpe_deter/data/pt-br/month_grammar/references.json'\n",
    "lexicon_path = 'nlg/lexicons/pt-br/'\n",
    "gen = Generation(structuring_path, lexicalization_path, reference_path, lexicon_path)"
   ]
  },
  {
   "cell_type": "code",
   "execution_count": 4,
   "metadata": {},
   "outputs": [
    {
     "name": "stdout",
     "output_type": "stream",
     "text": [
      "Segundo o Instituto Nacional de Pesquisas Espaciais (INPE), foram desmatados 914 km² da Amazônia legal, em junho de 2019. Com um total de 835 km², o desmatamento de corte raso, que deixa o solo sem nenhuma vegetação, foi o principal tipo de desmatamento.\n",
      "\n",
      "No mês, Pará foi o estado que mais teve desmatamento (454 km²). O município mais atingido foi Altamira / Pará (95 km²).\n",
      "\n",
      "A Unidade de Conservação que foi mais devastada foi a FLORESTA NACIONAL DO JAMANXIM / Pará (12 km²).\n"
     ]
    }
   ],
   "source": [
    "messages = [\n",
    "    {\n",
    "        'intent': 'CAUSE', \n",
    "        'attributes': {\n",
    "            'area': 835, 'cause': 'DESMATAMENTO_CR', 'year': 2019, 'month': 6, 'location': 'deter-amz'\n",
    "        }, \n",
    "        'str_msg': 'CAUSE(area=\"835\",cause=\"DESMATAMENTO_CR\",location=\"deter-amz\",month=\"6\",year=\"2019\")', \n",
    "        'delex_msg': 'CAUSE(area=AREA,cause=CAUSE,location=LOCATION,month=MONTH,year=YEAR)'\n",
    "    }, \n",
    "    {\n",
    "        'intent': 'TOTAL_DEFORESTATION', \n",
    "        'attributes': {'area': 12, 'year': 2019, 'month': 6, 'location': 'deter-amz', 'state': 'PA', 'city': 'Novo Progresso,Itaituba', 'UC': 'FLORESTA NACIONAL DO JAMANXIM'}, \n",
    "        'str_msg': 'TOTAL_DEFORESTATION(area=\"12\",city=\"Novo Progresso,Itaituba\",location=\"deter-amz\",month=\"6\",state=\"PA\",UC=\"FLORESTA NACIONAL DO JAMANXIM\",year=\"2019\")', \n",
    "        'delex_msg': 'TOTAL_DEFORESTATION(area=AREA,city=CITY,location=LOCATION,month=MONTH,state=STATE,UC=UC,year=YEAR)'\n",
    "    }, \n",
    "    {\n",
    "        'intent': 'TOTAL_DEFORESTATION', \n",
    "        'attributes': {'area': 454, 'year': 2019, 'month': 6, 'location': 'deter-amz', 'state': 'PA'}, \n",
    "        'str_msg': 'TOTAL_DEFORESTATION(area=\"454\",location=\"deter-amz\",month=\"6\",state=\"PA\",year=\"2019\")', \n",
    "        'delex_msg': 'TOTAL_DEFORESTATION(area=AREA,location=LOCATION,month=MONTH,state=STATE,year=YEAR)'\n",
    "    }, \n",
    "    {\n",
    "        'intent': 'TOTAL_DEFORESTATION', \n",
    "        'attributes': {'area': 914, 'year': 2019, 'month': 6, 'location': 'deter-amz'}, \n",
    "        'str_msg': 'TOTAL_DEFORESTATION(area=\"914\",location=\"deter-amz\",month=\"6\",year=\"2019\")', \n",
    "        'delex_msg': 'TOTAL_DEFORESTATION(area=AREA,location=LOCATION,month=MONTH,year=YEAR)'\n",
    "    }, \n",
    "    {\n",
    "        'intent': 'TOTAL_DEFORESTATION', \n",
    "        'attributes': {'area': 95, 'year': 2019, 'month': 6, 'location': 'deter-amz', 'state': 'PA', 'city': 'Altamira'}, \n",
    "        'str_msg': 'TOTAL_DEFORESTATION(area=\"95\",city=\"Altamira\",location=\"deter-amz\",month=\"6\",state=\"PA\",year=\"2019\")', \n",
    "        'delex_msg': 'TOTAL_DEFORESTATION(area=AREA,city=CITY,location=LOCATION,month=MONTH,state=STATE,year=YEAR)'\n",
    "    }\n",
    "]\n",
    "\n",
    "entry, template, paragraphs = gen.generate(messages, strategy='random')\n",
    "\n",
    "text = []\n",
    "for p in paragraphs:\n",
    "    text.append(' '.join(p))\n",
    "text = '\\n\\n'.join(text)\n",
    "\n",
    "print(text)"
   ]
  },
  {
   "cell_type": "code",
   "execution_count": 4,
   "metadata": {
    "scrolled": false
   },
   "outputs": [
    {
     "name": "stdout",
     "output_type": "stream",
     "text": [
      "Portuguese:\n",
      "Um total de 914 km² de desmatamento na Amazônia Legal foi detectado no mês de junho de 2019 pelo INPE. Com 835 km², a principal causa de devastação foi o desmatamento com solo exposto, que deixa a terra sem nenhuma cobertura florestal.\n",
      "\n",
      "O estado que mais teve desmatamento foi Pará (454 km²). O município que teve mais desmatamento no mês foi Altamira (Pará), com 95 km² de área desmatada.\n",
      "\n",
      "Com 12 km², a FLORESTA NACIONAL DO JAMANXIM / Pará foi a Unidade de Conservação mais devastada no mês.\n",
      "********** \n",
      "\n",
      "Portuguese:\n",
      "Um total de 914 km² de desmatamento na Amazônia legal foi detectado no mês de junho de 2019 pelo INPE. Com 835 km², a principal causa de devastação foi o desmatamento com solo exposto, aquele que deixa a terra sem nenhuma vegetação.\n",
      "\n",
      "Pará foi o estado mais atingido pelo desmatamento, com 454 km². Altamira foi o município mais afetado (95 km²).\n",
      "\n",
      "A Unidade de Conservação onde teve mais desmatamento foi a FLORESTA NACIONAL DO JAMANXIM / Pará (12 km²).\n",
      "********** \n",
      "\n",
      "Portuguese:\n",
      "De acordo com os dados de monitoramento do INPE, foram desmatados 914 km² da Amazônia Legal no mês de junho de 2019. Com 835 km², a principal causa de devastação foi o desmatamento com solo exposto, que deixa a terra sem nenhuma cobertura florestal.\n",
      "\n",
      "O estado de Pará foi o mais desmatado no mês de junho, com 454 km² de floresta destruídos, enquanto Altamira / Pará foi o município com maior desmatamento (95 km²) no mesmo período.\n",
      "\n",
      "A FLORESTA NACIONAL DO JAMANXIM / Pará foi a Unidade de Conservação mais devastada no mês de junho, com um total de 12 km² desmatados.\n",
      "********** \n",
      "\n",
      "Portuguese:\n",
      "Segundo o INPE, 914 km² foram desmatados na Amazônia legal, em junho de 2019. A principal causa foi o desmatamento de corte raso, que deixa o solo sem nenhuma vegetação, somando 835 km².\n",
      "\n",
      "Pará foi o estado mais atingido pelo desmatamento, com 454 km². O município de Altamira / Pará foi o mais afetado, com 95 km² desmatados.\n",
      "\n",
      "A Área Protegida onde mais aconteceu desmatamento foi a FLORESTA NACIONAL DO JAMANXIM / Pará (12 km²).\n",
      "********** \n",
      "\n",
      "Portuguese:\n",
      "O INPE informou que foram desmatados 914 km², na Amazônia Legal, em junho de 2019. Com um total de 835 km², a principal causa de destruição da Amazônia Legal no mês foi o desmatamento com solo exposto, que deixa a terra sem vegetação.\n",
      "\n",
      "O estado mais atingido foi Pará (454 km²) e o município com mais desmatamento no mês foi Altamira / Pará (95 km²).\n",
      "\n",
      "A Unidade de Conservação onde teve mais desmatamento foi a FLORESTA NACIONAL DO JAMANXIM / Pará (12 km²).\n",
      "********** \n",
      "\n"
     ]
    }
   ],
   "source": [
    "for date in DeforestationDeterINPE.objects().distinct('date')[:5]:\n",
    "    month, year = date.month, date.year\n",
    "    messages, date = content(month, year)\n",
    "    try:\n",
    "        entry, template, paragraphs = gen.generate(messages, strategy='random')\n",
    "\n",
    "        text = []\n",
    "        for p in paragraphs:\n",
    "            text.append(' '.join(p))\n",
    "        text = '\\n\\n'.join(text)\n",
    "\n",
    "        print(\"Portuguese:\")\n",
    "        print(text)\n",
    "    except:\n",
    "        print('ERROR')\n",
    "    print(10 * '*', '\\n')"
   ]
  },
  {
   "cell_type": "markdown",
   "metadata": {},
   "source": [
    "# Daily Report"
   ]
  },
  {
   "cell_type": "code",
   "execution_count": 5,
   "metadata": {},
   "outputs": [],
   "source": [
    "from datetime import datetime, timedelta\n",
    "import inpe_deter.daily_content as daily_content\n",
    "\n",
    "structuring_path = 'inpe_deter/data/pt-br/daily_grammar/structuring.json'\n",
    "lexicalization_path = 'inpe_deter/data/pt-br/daily_grammar/lexicalization.json'\n",
    "reference_path = 'inpe_deter/data/pt-br/daily_grammar/references.json'\n",
    "lexicon_path = 'nlg/lexicons/pt-br/'\n",
    "gen = Generation(structuring_path, lexicalization_path, reference_path, lexicon_path)"
   ]
  },
  {
   "cell_type": "code",
   "execution_count": 6,
   "metadata": {},
   "outputs": [
    {
     "name": "stdout",
     "output_type": "stream",
     "text": [
      "Segundo o Instituto Nacional de Pesquisas Espaciais (INPE), Labrea / Amazonas teve alertas de desmatamento no dia 17 de outubro de 2020 que somaram 6,08 km². O principal tipo de degradação que gerou o alerta para Labrea / Amazonas foi o desmatamento com solo exposto, que deixa a floresta sem nenhuma vegetação. Labrea acumula 36,66 km² de área desmatada no mês de outubro de 2020.\n"
     ]
    }
   ],
   "source": [
    "messages = [\n",
    "    {\n",
    "        'intent': 'CAUSE', \n",
    "        'attributes': {'year': 2020, 'month': 10, 'location': 'deter-amz', 'state': 'AM', 'city': 'Labrea', 'cause': 'DESMATAMENTO_CR'}, \n",
    "        'str_msg': 'CAUSE(cause=\"DESMATAMENTO_CR\",city=\"Labrea\",location=\"deter-amz\",month=\"10\",state=\"AM\",year=\"2020\")', \n",
    "        'delex_msg': 'CAUSE(cause=CAUSE,city=CITY,location=LOCATION,month=MONTH,state=STATE,year=YEAR)'\n",
    "    }, \n",
    "    {\n",
    "        'intent': 'DAILY_ALERT', \n",
    "        'attributes': {'year': 2020, 'month': 10, 'day': 17, 'location': 'deter-amz', 'state': 'AM', 'city': 'Labrea', 'area': 6.075527808385738, 'daily_accumulation': 7}, \n",
    "        'str_msg': 'DAILY_ALERT(area=\"6.075527808385738\",city=\"Labrea\",daily_accumulation=\"7\",day=\"17\",location=\"deter-amz\",month=\"10\",state=\"AM\",year=\"2020\")', \n",
    "        'delex_msg': 'DAILY_ALERT(area=AREA,city=CITY,daily_accumulation=DAILY_ACCUMULATION,day=DAY,location=LOCATION,month=MONTH,state=STATE,year=YEAR)'\n",
    "    }, \n",
    "    {\n",
    "        'intent': 'TOTAL_DEFORESTATION', \n",
    "        'attributes': {'year': 2020, 'month': 10, 'location': 'deter-amz', 'state': 'AM', 'city': 'Labrea', 'area': 36.66000131810721}, \n",
    "        'str_msg': 'TOTAL_DEFORESTATION(area=\"36.66000131810721\",city=\"Labrea\",location=\"deter-amz\",month=\"10\",state=\"AM\",year=\"2020\")', \n",
    "        'delex_msg': 'TOTAL_DEFORESTATION(area=AREA,city=CITY,location=LOCATION,month=MONTH,state=STATE,year=YEAR)'\n",
    "    }\n",
    "]\n",
    "entry, template, paragraphs = gen.generate(messages, strategy='random')\n",
    "\n",
    "text = []\n",
    "for p in paragraphs:\n",
    "    text.append(' '.join(p))\n",
    "print('\\n'.join(text))"
   ]
  },
  {
   "cell_type": "code",
   "execution_count": 6,
   "metadata": {},
   "outputs": [],
   "source": [
    "date = datetime.now() - timedelta(days=60)\n",
    "\n",
    "alerts = []\n",
    "for last_day in sorted(DeforestationDeterINPE.objects(date__gte=date).distinct('date'))[:5]:\n",
    "    cities, ucs = {}, {}\n",
    "    cases = DeforestationDeterINPE.objects(date=last_day)\n",
    "    for case in cases:\n",
    "        if case.cause in ['DESMATAMENTO_CR', 'DESMATAMENTO_VEG', 'MINERACAO']:\n",
    "            if case.UC:\n",
    "                if (last_day, case.state, case.city, case.UC) not in ucs:\n",
    "                    ucs[(last_day, case.state, case.city, case.UC)] = 0\n",
    "                ucs[(last_day, case.state, case.city, case.UC)] += case.uc_area\n",
    "            else:\n",
    "                if (last_day, case.state, case.city, None) not in cities:\n",
    "                    cities[(last_day, case.state, case.city, None)] = 0\n",
    "                cities[(last_day, case.state, case.city, None)] += case.city_area\n",
    "\n",
    "    cities = sorted(cities.items(), key=lambda x:x[1], reverse=True)[:3]\n",
    "    ucs = sorted(ucs.items(), key=lambda x:x[1], reverse=True)[:3]\n",
    "\n",
    "    for city in cities:\n",
    "        alerts.append(city[0])\n",
    "    for uc in ucs:\n",
    "        alerts.append(uc[0])"
   ]
  },
  {
   "cell_type": "code",
   "execution_count": 7,
   "metadata": {},
   "outputs": [
    {
     "name": "stdout",
     "output_type": "stream",
     "text": [
      "CAUSE(cause=\"DESMATAMENTO_CR\",city=\"Porto Velho\",location=\"deter-amz\",month=\"6\",state=\"RO\",year=\"2020\")\n",
      "DAILY_ALERT(area=\"6.7931018036451825\",city=\"Porto Velho\",daily_accumulation=\"9\",day=\"30\",location=\"deter-amz\",month=\"6\",state=\"RO\",year=\"2020\")\n",
      "TOTAL_DEFORESTATION(area=\"46.0882973437658\",city=\"Porto Velho\",location=\"deter-amz\",month=\"6\",state=\"RO\",year=\"2020\")\n",
      "\n",
      "No dia 30 de junho de 2020, o INPE registrou alertas de desmatamento somando 6,79 km² em Porto Velho / Rondônia, que acumula 9 dias com alertas no mês. O principal tipo de desmatamento foi o desmatamento com solo exposto, que deixa o solo sem vegetação. No total, 46,09 km² foram desmatados em Porto Velho no mês de junho.\n",
      "********** \n",
      "\n",
      "CAUSE(cause=\"DESMATAMENTO_CR\",city=\"Sao Felix do Xingu\",location=\"deter-amz\",month=\"6\",state=\"PA\",year=\"2020\")\n",
      "DAILY_ALERT(area=\"6.161107067840259\",city=\"Sao Felix do Xingu\",daily_accumulation=\"11\",day=\"30\",location=\"deter-amz\",month=\"6\",state=\"PA\",year=\"2020\")\n",
      "TOTAL_DEFORESTATION(area=\"67.97554469342512\",city=\"Sao Felix do Xingu\",location=\"deter-amz\",month=\"6\",state=\"PA\",year=\"2020\")\n",
      "\n",
      "No dia 30 de junho de 2020, o Instituto Nacional de Pesquisas Espaciais (INPE) registrou alertas de desmatamento somando 6,16 km² em Sao Felix do Xingu / Pará, que acumula 11 dias com alertas no mês. O desmatamento com solo exposto, que deixa o solo sem vegetação, foi a principal causa de desmatamento. Sao Felix do Xingu acumula 67,98 km² em junho.\n",
      "********** \n",
      "\n",
      "CAUSE(cause=\"DESMATAMENTO_CR\",city=\"Colniza\",location=\"deter-amz\",month=\"6\",state=\"MT\",year=\"2020\")\n",
      "DAILY_ALERT(area=\"5.3270460286338235\",city=\"Colniza\",daily_accumulation=\"8\",day=\"30\",location=\"deter-amz\",month=\"6\",state=\"MT\",year=\"2020\")\n",
      "TOTAL_DEFORESTATION(area=\"20.680526573003284\",city=\"Colniza\",location=\"deter-amz\",month=\"6\",state=\"MT\",year=\"2020\")\n",
      "\n",
      "Segundo o INPE, Colniza / Mato Grosso teve alertas de desmatamento no dia 30 de junho de 2020 que somaram 5,33 km². No mês de junho já foram desmatados 20,68 km² de floresta em Colniza. A principal causa do alerta diário gerado pelo Instituto para Colniza é o desmatamento com solo exposto, que acaba com toda vegetação do local.\n",
      "********** \n",
      "\n",
      "CAUSE(cause=\"MINERACAO\",city=\"Novo Progresso\",location=\"deter-amz\",month=\"6\",state=\"PA\",uc=\"FLORESTA NACIONAL DO JAMANXIM\",year=\"2020\")\n",
      "DAILY_ALERT(area=\"6.928084182841216\",city=\"Novo Progresso\",daily_accumulation=\"9\",day=\"30\",location=\"deter-amz\",month=\"6\",state=\"PA\",uc=\"FLORESTA NACIONAL DO JAMANXIM\",year=\"2020\")\n",
      "TOTAL_DEFORESTATION(area=\"25.703230927311303\",city=\"Novo Progresso\",location=\"deter-amz\",month=\"6\",state=\"PA\",uc=\"FLORESTA NACIONAL DO JAMANXIM\",year=\"2020\")\n",
      "\n",
      "No dia 30 de junho de 2020, o INPE divulgou alertas de desmatamento que somam 6,93 km² na FLORESTA NACIONAL DO JAMANXIM / Pará, acumulando 9 dias com alertas no mês. O alerta gerado indica degradação por causa de mineração, devido à ação de garimpos na floresta. Em junho, a FLORESTA NACIONAL DO JAMANXIM acumula 25,70 km² de área desmatada.\n",
      "********** \n",
      "\n",
      "CAUSE(cause=\"DESMATAMENTO_CR\",city=\"Altamira\",location=\"deter-amz\",month=\"6\",state=\"PA\",uc=\"RESERVA BIOLÓGICA NASCENTES DA SERRA DO CACHIMBO\",year=\"2020\")\n",
      "DAILY_ALERT(area=\"1.652996917021529\",city=\"Altamira\",daily_accumulation=\"7\",day=\"30\",location=\"deter-amz\",month=\"6\",state=\"PA\",uc=\"RESERVA BIOLÓGICA NASCENTES DA SERRA DO CACHIMBO\",year=\"2020\")\n",
      "TOTAL_DEFORESTATION(area=\"5.205300899521609\",city=\"Altamira\",location=\"deter-amz\",month=\"6\",state=\"PA\",uc=\"RESERVA BIOLÓGICA NASCENTES DA SERRA DO CACHIMBO\",year=\"2020\")\n",
      "\n",
      "Em 30 de junho de 2020, o INPE registrou alertas de desmatamento na RESERVA BIOLÓGICA NASCENTES DA SERRA DO CACHIMBO / Pará que somaram 1,65 km², acumulando 7 dias com alertas no mês. O principal motivo do alerta diário gerado pelo INPE para a RESERVA BIOLÓGICA NASCENTES DA SERRA DO CACHIMBO foi o desmatamento de solo exposto, que deixa a floresta sem nenhuma vegetação. A RESERVA BIOLÓGICA NASCENTES DA SERRA DO CACHIMBO soma 5,21 km² de desmatamento no mês analisado.\n",
      "********** \n",
      "\n"
     ]
    }
   ],
   "source": [
    "for alert in alerts[:5]:\n",
    "    date, state, city, uc = alert\n",
    "    messages, _ = daily_content.content(date, state, city, uc)\n",
    "    print('\\n'.join([msg['str_msg'] for msg in messages]))\n",
    "    print()\n",
    "    try:\n",
    "        entry, template, paragraphs = gen.generate(messages, strategy='random')\n",
    "\n",
    "        text = []\n",
    "        for p in paragraphs:\n",
    "            text.append(' '.join(p))\n",
    "        print('\\n'.join(text))\n",
    "    except:\n",
    "        print('ERROR')\n",
    "    print(10 * '*', '\\n')"
   ]
  },
  {
   "cell_type": "code",
   "execution_count": null,
   "metadata": {},
   "outputs": [],
   "source": []
  }
 ],
 "metadata": {
  "kernelspec": {
   "display_name": "Python 3",
   "language": "python",
   "name": "python3"
  },
  "language_info": {
   "codemirror_mode": {
    "name": "ipython",
    "version": 3
   },
   "file_extension": ".py",
   "mimetype": "text/x-python",
   "name": "python",
   "nbconvert_exporter": "python",
   "pygments_lexer": "ipython3",
   "version": "3.7.7"
  }
 },
 "nbformat": 4,
 "nbformat_minor": 2
}
